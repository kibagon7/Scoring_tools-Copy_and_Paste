{
 "cells": [
  {
   "cell_type": "code",
   "execution_count": 1,
   "id": "6771c5fc",
   "metadata": {},
   "outputs": [],
   "source": [
    "import pandas as pd\n",
    "import os\n",
    "import subprocess\n",
    "import shutil\n",
    "import pyautogui as pgui\n",
    "from time import sleep\n",
    "import pyperclip\n"
   ]
  },
  {
   "cell_type": "code",
   "execution_count": 2,
   "id": "dabec912",
   "metadata": {
    "code_folding": []
   },
   "outputs": [],
   "source": [
    "def copy_templates():\n",
    "    pgui.hotkey(\"win\",\"up\")\n",
    "    sleep(1)\n",
    "    pgui.click(x = 373, y = 1218)\n",
    "    sleep(1)\n",
    "    pgui.hotkey(\"ctrl\", \"a\")\n",
    "    sleep(1)\n",
    "    pgui.hotkey(\"ctrl\", \"c\")\n",
    "    sleep(1)\n",
    "    pgui.hotkey(\"pagedown\")\n",
    "    pgui.hotkey(\"alt\", \"tab\")\n",
    "    sleep(1)"
   ]
  },
  {
   "cell_type": "code",
   "execution_count": 3,
   "id": "cb2f6bbf",
   "metadata": {},
   "outputs": [],
   "source": [
    "def paste_templates():\n",
    "    pgui.hotkey(\"win\", \"up\")\n",
    "    sleep(1)\n",
    "    pgui.click(x = 373, y = 1218)\n",
    "    sleep(1)\n",
    "    pgui.hotkey(\"ctrl\", \"v\")\n",
    "    sleep(1)\n",
    "    pgui.click(x = 373, y = 1218)\n",
    "    pgui.click(x = 2081, y = 1182)\n",
    "    pgui.hotkey(\"del\")\n",
    "    sleep(1)\n",
    "    pgui.hotkey(\"pagedown\")\n",
    "    pgui.hotkey(\"alt\", \"tab\")\n",
    "    sleep(1)"
   ]
  },
  {
   "cell_type": "code",
   "execution_count": 4,
   "id": "85c73581",
   "metadata": {},
   "outputs": [],
   "source": [
    "def find_page():\n",
    "    pgui.hotkey(\"win\",\"up\")\n",
    "    sleep(1)\n",
    "    pgui.click(x = 373, y = 1218)\n",
    "    for i in range(7):\n",
    "        pgui.hotkey(\"pagedown\")\n",
    "    sleep(1)\n",
    "    pgui.click(x = 373, y = 1218)\n",
    "    pgui.rightClick(x = 373, y = 1218)\n",
    "    pgui.hotkey(\"e\")\n",
    "    pgui.hotkey(\"r\")\n",
    "    sleep(1)\n",
    "    pgui.hotkey(\"ctrl\", \"c\")\n",
    "    sleep(1)\n",
    "    page = int(str(pyperclip.paste())[4:])\n",
    "    pgui.click(x=1493, y=618)\n",
    "    for i in range(7):\n",
    "        pgui.hotkey(\"pageup\")\n",
    "    return page"
   ]
  },
  {
   "cell_type": "code",
   "execution_count": 5,
   "id": "25c9918e",
   "metadata": {},
   "outputs": [
    {
     "ename": "ValueError",
     "evalue": "invalid literal for int() with base 10: ''",
     "output_type": "error",
     "traceback": [
      "\u001b[1;31m---------------------------------------------------------------------------\u001b[0m",
      "\u001b[1;31mValueError\u001b[0m                                Traceback (most recent call last)",
      "\u001b[1;32m~\\AppData\\Local\\Temp/ipykernel_18332/505211635.py\u001b[0m in \u001b[0;36m<module>\u001b[1;34m\u001b[0m\n\u001b[0;32m     18\u001b[0m             \u001b[0mtemp\u001b[0m \u001b[1;33m=\u001b[0m \u001b[0msubprocess\u001b[0m\u001b[1;33m.\u001b[0m\u001b[0mPopen\u001b[0m\u001b[1;33m(\u001b[0m\u001b[0mAnswer_template1\u001b[0m \u001b[1;33m+\u001b[0m  \u001b[0mj\u001b[0m\u001b[1;33m,\u001b[0m \u001b[0mshell\u001b[0m \u001b[1;33m=\u001b[0m \u001b[1;32mTrue\u001b[0m\u001b[1;33m)\u001b[0m\u001b[1;33m\u001b[0m\u001b[1;33m\u001b[0m\u001b[0m\n\u001b[0;32m     19\u001b[0m             \u001b[0msleep\u001b[0m\u001b[1;33m(\u001b[0m\u001b[1;36m1.5\u001b[0m\u001b[1;33m)\u001b[0m\u001b[1;33m\u001b[0m\u001b[1;33m\u001b[0m\u001b[0m\n\u001b[1;32m---> 20\u001b[1;33m             \u001b[0mpage\u001b[0m \u001b[1;33m=\u001b[0m \u001b[0mfind_page\u001b[0m\u001b[1;33m(\u001b[0m\u001b[1;33m)\u001b[0m\u001b[1;33m\u001b[0m\u001b[1;33m\u001b[0m\u001b[0m\n\u001b[0m\u001b[0;32m     21\u001b[0m             \u001b[0msleep\u001b[0m\u001b[1;33m(\u001b[0m\u001b[1;36m1\u001b[0m\u001b[1;33m)\u001b[0m\u001b[1;33m\u001b[0m\u001b[1;33m\u001b[0m\u001b[0m\n\u001b[0;32m     22\u001b[0m             \u001b[1;32mfor\u001b[0m \u001b[0mk\u001b[0m \u001b[1;32min\u001b[0m \u001b[0mrange\u001b[0m\u001b[1;33m(\u001b[0m\u001b[0mpage\u001b[0m\u001b[1;33m)\u001b[0m\u001b[1;33m:\u001b[0m\u001b[1;33m\u001b[0m\u001b[1;33m\u001b[0m\u001b[0m\n",
      "\u001b[1;32m~\\AppData\\Local\\Temp/ipykernel_18332/1759899654.py\u001b[0m in \u001b[0;36mfind_page\u001b[1;34m()\u001b[0m\n\u001b[0;32m     13\u001b[0m     \u001b[0mpgui\u001b[0m\u001b[1;33m.\u001b[0m\u001b[0mhotkey\u001b[0m\u001b[1;33m(\u001b[0m\u001b[1;34m\"ctrl\"\u001b[0m\u001b[1;33m,\u001b[0m \u001b[1;34m\"c\"\u001b[0m\u001b[1;33m)\u001b[0m\u001b[1;33m\u001b[0m\u001b[1;33m\u001b[0m\u001b[0m\n\u001b[0;32m     14\u001b[0m     \u001b[0msleep\u001b[0m\u001b[1;33m(\u001b[0m\u001b[1;36m1\u001b[0m\u001b[1;33m)\u001b[0m\u001b[1;33m\u001b[0m\u001b[1;33m\u001b[0m\u001b[0m\n\u001b[1;32m---> 15\u001b[1;33m     \u001b[0mpage\u001b[0m \u001b[1;33m=\u001b[0m \u001b[0mint\u001b[0m\u001b[1;33m(\u001b[0m\u001b[0mstr\u001b[0m\u001b[1;33m(\u001b[0m\u001b[0mpyperclip\u001b[0m\u001b[1;33m.\u001b[0m\u001b[0mpaste\u001b[0m\u001b[1;33m(\u001b[0m\u001b[1;33m)\u001b[0m\u001b[1;33m)\u001b[0m\u001b[1;33m[\u001b[0m\u001b[1;36m4\u001b[0m\u001b[1;33m:\u001b[0m\u001b[1;33m]\u001b[0m\u001b[1;33m)\u001b[0m\u001b[1;33m\u001b[0m\u001b[1;33m\u001b[0m\u001b[0m\n\u001b[0m\u001b[0;32m     16\u001b[0m     \u001b[0mpgui\u001b[0m\u001b[1;33m.\u001b[0m\u001b[0mclick\u001b[0m\u001b[1;33m(\u001b[0m\u001b[0mx\u001b[0m\u001b[1;33m=\u001b[0m\u001b[1;36m1493\u001b[0m\u001b[1;33m,\u001b[0m \u001b[0my\u001b[0m\u001b[1;33m=\u001b[0m\u001b[1;36m618\u001b[0m\u001b[1;33m)\u001b[0m\u001b[1;33m\u001b[0m\u001b[1;33m\u001b[0m\u001b[0m\n\u001b[0;32m     17\u001b[0m     \u001b[1;32mfor\u001b[0m \u001b[0mi\u001b[0m \u001b[1;32min\u001b[0m \u001b[0mrange\u001b[0m\u001b[1;33m(\u001b[0m\u001b[1;36m7\u001b[0m\u001b[1;33m)\u001b[0m\u001b[1;33m:\u001b[0m\u001b[1;33m\u001b[0m\u001b[1;33m\u001b[0m\u001b[0m\n",
      "\u001b[1;31mValueError\u001b[0m: invalid literal for int() with base 10: ''"
     ]
    }
   ],
   "source": [
    "Answer_sheets = r\"C:/Users/kibag/Documents/Toushin/Scoring_files/Answer_sheets/\"\n",
    "Answer_template1 = r\"C:/Users/kibag/Documents/Toushin/Answer_template1/\"\n",
    "Templated = r\"C:/Users/kibag/Documents/Toushin/Scoring_files/Templated/\"\n",
    "open_office_path = r\"C:\\Program Files (x86)\\OpenOffice.org 3\\program\\sdraw.exe\"\n",
    "\n",
    "\n",
    "files = os.listdir(Answer_sheets)\n",
    "templates = os.listdir(Answer_template1)\n",
    "\n",
    "for i in files:\n",
    "    number = i[2:10]\n",
    "    for j in templates:\n",
    "        if j.startswith(number):\n",
    "            shutil.move(Answer_sheets + i,\n",
    "                       Templated + i)\n",
    "            subprocess.Popen([open_office_path, Templated + i])\n",
    "            sleep(4)\n",
    "            temp = subprocess.Popen(Answer_template1 +  j, shell = True)\n",
    "            sleep(1.5)\n",
    "            page = find_page()\n",
    "            sleep(1)\n",
    "            for k in range(page):\n",
    "                copy_templates()\n",
    "                paste_templates()\n",
    "            pgui.hotkey(\"alt\", \"f4\")\n",
    "\n",
    "        else:\n",
    "            continue\n",
    "                \n"
   ]
  },
  {
   "cell_type": "code",
   "execution_count": null,
   "id": "225fa8cf",
   "metadata": {},
   "outputs": [],
   "source": []
  },
  {
   "cell_type": "code",
   "execution_count": null,
   "id": "eb610cc8",
   "metadata": {},
   "outputs": [],
   "source": []
  },
  {
   "cell_type": "code",
   "execution_count": null,
   "id": "82461ee8",
   "metadata": {},
   "outputs": [],
   "source": []
  },
  {
   "cell_type": "code",
   "execution_count": null,
   "id": "ace22565",
   "metadata": {},
   "outputs": [],
   "source": []
  },
  {
   "cell_type": "code",
   "execution_count": null,
   "id": "da9dc91f",
   "metadata": {},
   "outputs": [],
   "source": []
  },
  {
   "cell_type": "code",
   "execution_count": 23,
   "id": "65ef8a68",
   "metadata": {},
   "outputs": [],
   "source": []
  },
  {
   "cell_type": "code",
   "execution_count": null,
   "id": "da36fb78",
   "metadata": {
    "scrolled": true
   },
   "outputs": [],
   "source": []
  },
  {
   "cell_type": "code",
   "execution_count": null,
   "id": "6000e3f2",
   "metadata": {},
   "outputs": [],
   "source": []
  },
  {
   "cell_type": "code",
   "execution_count": null,
   "id": "218f7e0f",
   "metadata": {},
   "outputs": [],
   "source": []
  },
  {
   "cell_type": "code",
   "execution_count": null,
   "id": "05512af5",
   "metadata": {},
   "outputs": [],
   "source": [
    "subprocess.Popen(r\"C:/Users/kibag/Documents/Toushin/Answer_template1/01203903.odg\", shell = True)\n",
    "sleep(2)\n",
    "copy_templates()\n",
    "sleep(5)\n",
    "subprocess.Popen(r\"C:/Users/kibag/Documents/Toushin/Answer_template1/034320100442272351.odg\", shell = True)\n",
    "sleep(2)\n",
    "paste_templates()\n"
   ]
  },
  {
   "cell_type": "code",
   "execution_count": null,
   "id": "e5dc50fd",
   "metadata": {},
   "outputs": [],
   "source": [
    "subprocess.Popen(r\"C:/Users/kibag/Documents/Toushin/Answer_template1/01203903.odg\", shell = True)\n",
    "sleep(5)\n",
    "subprocess.Popen(r\"C:/Users/kibag/Documents/Toushin/Answer_template1/034320100442272351.odg\", shell = True)\n",
    "sleep(5)\n",
    "subprocess.Popen(r\"C:/Users/kibag/Documents/Toushin/Answer_template1/01203903.odg\", shell = True)"
   ]
  },
  {
   "cell_type": "code",
   "execution_count": 6,
   "id": "a5d4b736",
   "metadata": {},
   "outputs": [
    {
     "data": {
      "text/plain": [
       "Point(x=2063, y=255)"
      ]
     },
     "execution_count": 6,
     "metadata": {},
     "output_type": "execute_result"
    }
   ],
   "source": [
    "pgui.position()"
   ]
  },
  {
   "cell_type": "code",
   "execution_count": null,
   "id": "454add55",
   "metadata": {},
   "outputs": [],
   "source": []
  }
 ],
 "metadata": {
  "kernelspec": {
   "display_name": "Python 3 (ipykernel)",
   "language": "python",
   "name": "python3"
  },
  "language_info": {
   "codemirror_mode": {
    "name": "ipython",
    "version": 3
   },
   "file_extension": ".py",
   "mimetype": "text/x-python",
   "name": "python",
   "nbconvert_exporter": "python",
   "pygments_lexer": "ipython3",
   "version": "3.8.8"
  },
  "toc": {
   "base_numbering": 1,
   "nav_menu": {},
   "number_sections": true,
   "sideBar": true,
   "skip_h1_title": false,
   "title_cell": "Table of Contents",
   "title_sidebar": "Contents",
   "toc_cell": false,
   "toc_position": {},
   "toc_section_display": true,
   "toc_window_display": false
  },
  "varInspector": {
   "cols": {
    "lenName": 16,
    "lenType": 16,
    "lenVar": 40
   },
   "kernels_config": {
    "python": {
     "delete_cmd_postfix": "",
     "delete_cmd_prefix": "del ",
     "library": "var_list.py",
     "varRefreshCmd": "print(var_dic_list())"
    },
    "r": {
     "delete_cmd_postfix": ") ",
     "delete_cmd_prefix": "rm(",
     "library": "var_list.r",
     "varRefreshCmd": "cat(var_dic_list()) "
    }
   },
   "types_to_exclude": [
    "module",
    "function",
    "builtin_function_or_method",
    "instance",
    "_Feature"
   ],
   "window_display": false
  }
 },
 "nbformat": 4,
 "nbformat_minor": 5
}
